{
 "cells": [
  {
   "cell_type": "code",
   "execution_count": 1,
   "id": "5f5646ae-07d9-4a56-889e-41065541b4c0",
   "metadata": {},
   "outputs": [
    {
     "name": "stdout",
     "output_type": "stream",
     "text": [
      "Test Statistic (t): -38.0\n"
     ]
    }
   ],
   "source": [
    "x_bar = 3050 \n",
    "mu = 1000 + 5 * 600  \n",
    "s = 5 * 25 \n",
    "n = 25\n",
    "\n",
    "# Calculate the t-statistic\n",
    "t_statistic = (x_bar - mu) / (s / (n**0.5))\n",
    "\n",
    "print(f\"Test Statistic (t): {t_statistic}\")"
   ]
  },
  {
   "cell_type": "code",
   "execution_count": 9,
   "id": "b1949fcf-3f24-4737-b97d-af64203ab5c1",
   "metadata": {},
   "outputs": [
    {
     "name": "stdout",
     "output_type": "stream",
     "text": [
      "Critical Value (t): 2.0638985616280205\n",
      "Decision: Reject the null hypothesis\n"
     ]
    }
   ],
   "source": [
    "# Using Critical Value\n",
    "alpha = 0.05  # Significance level\n",
    "degrees_of_freedom = sample_size - 1 # Degrees of freedom\n",
    "critical_value = stats.t.ppf(1 - alpha / 2, df=degrees_of_freedom)  # Two-tailed test\n",
    "\n",
    "print(f\"Critical Value (t): {critical_value}\")\n",
    "\n",
    "# 4. Make a Decision:\n",
    "if abs(t_statistic) > critical_value:\n",
    "    decision = \"Reject the null hypothesis\"\n",
    "else:\n",
    "    decision = \"Fail to reject the null hypothesis\"\n",
    "\n",
    "print(f\"Decision: {decision}\")"
   ]
  },
  {
   "cell_type": "code",
   "execution_count": 11,
   "id": "64af0c12-4c11-4ba7-84ba-426988b1b3bc",
   "metadata": {},
   "outputs": [
    {
     "name": "stdout",
     "output_type": "stream",
     "text": [
      "P-value: 0.0\n",
      "Reject the null hypothesis\n"
     ]
    }
   ],
   "source": [
    "# Using P-Value\n",
    "alpha = 0.05\n",
    "from scipy import stats\n",
    "\n",
    "t_statistic_ind, p_value = stats.ttest_ind(\n",
    "    [3050] * 25, [theoretical_mean] * 25\n",
    ")\n",
    "print(f\"P-value: {p_value}\")\n",
    "\n",
    "\n",
    "if p_value < alpha:\n",
    "    decision_p = \"Reject the null hypothesis\"\n",
    "else:\n",
    "    decision_p = \"Fail to reject the null hypothesis\"\n",
    "\n",
    "print(decision_p)"
   ]
  },
  {
   "cell_type": "code",
   "execution_count": null,
   "id": "50fac5ed-664f-42ac-87e3-b41cf1613b61",
   "metadata": {},
   "outputs": [],
   "source": []
  }
 ],
 "metadata": {
  "kernelspec": {
   "display_name": "Python 3 (ipykernel)",
   "language": "python",
   "name": "python3"
  },
  "language_info": {
   "codemirror_mode": {
    "name": "ipython",
    "version": 3
   },
   "file_extension": ".py",
   "mimetype": "text/x-python",
   "name": "python",
   "nbconvert_exporter": "python",
   "pygments_lexer": "ipython3",
   "version": "3.12.4"
  }
 },
 "nbformat": 4,
 "nbformat_minor": 5
}
