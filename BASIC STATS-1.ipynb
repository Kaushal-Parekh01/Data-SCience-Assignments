{
 "cells": [
  {
   "cell_type": "code",
   "execution_count": null,
   "id": "f26023be-b3ae-4b1c-a859-00621888bc9e",
   "metadata": {},
   "outputs": [],
   "source": [
    "# Load Data & Identify numerical columns in the dataset.\n",
    "import pandas as pd\n",
    "\n",
    "# Load the dataset\n",
    "data = pd.read_csv('sales_data_with_discounts.csv')\n",
    "\n",
    "# Displaying the first few rows and data types to identify numerical columns\n",
    "data.head(), data.dtypes"
   ]
  },
  {
   "cell_type": "code",
   "execution_count": null,
   "id": "58539266-0040-4021-959c-498371f56133",
   "metadata": {},
   "outputs": [],
   "source": [
    "# Calculate the mean, median, mode, and standard deviation for these columns.\n",
    "numerical_columns = ['Volume', 'Avg Price', 'Total Sales Value', \n",
    "                     'Discount Rate (%)', 'Discount Amount', 'Net Sales Value']\n",
    "\n",
    "# mean, median, mode, and standard deviation\n",
    "statistics = {\n",
    "    'Mean': data[numerical_columns].mean(),\n",
    "    'Median': data[numerical_columns].median(),\n",
    "    'Mode': data[numerical_columns].mode().iloc[0],  # Taking the first mode for each column\n",
    "    'Standard Deviation': data[numerical_columns].std()\n",
    "}\n",
    "\n",
    "# Converting the result to a DataFrame\n",
    "stats_df = pd.DataFrame(statistics)\n",
    "stats_df"
   ]
  },
  {
   "cell_type": "code",
   "execution_count": null,
   "id": "6e34a07e-6b77-44ef-beaf-a8fb2cb19952",
   "metadata": {},
   "outputs": [],
   "source": [
    "# **** Provide a brief interpretation of these statistics.\n",
    "# ---> Mean: The average value, showing the overall trend or typical value of the data.\n",
    "# ---> Median: The middle value when sorted, indicating skewness if it differs from the mean.\n",
    "# ---> Mode: The most frequent value, highlighting common trends in the data.\n",
    "# Standard Deviation: The measure of spread, showing how much values vary around the mean."
   ]
  },
  {
   "cell_type": "code",
   "execution_count": null,
   "id": "90d4309b-9214-43d5-8e0a-fd2f18ac0640",
   "metadata": {},
   "outputs": [],
   "source": [
    "# Plot histograms for each numerical column.\n",
    "import matplotlib.pyplot as plt\n",
    "\n",
    "# Plotting histograms for each numerical column\n",
    "numerical_columns = ['Volume', 'Avg Price', 'Total Sales Value', \n",
    "                     'Discount Rate (%)', 'Discount Amount', 'Net Sales Value']\n",
    "\n",
    "# Setting up the figure\n",
    "fig, axes = plt.subplots(len(numerical_columns), 1, figsize=(10, 20))\n",
    "fig.tight_layout(pad=5.0)\n",
    "\n",
    "# Plotting each histogram\n",
    "for i, col in enumerate(numerical_columns):\n",
    "    axes[i].hist(data[col], bins=20, color='skyblue', edgecolor='black', alpha=0.7)\n",
    "    axes[i].set_title(f'Histogram of {col}')\n",
    "    axes[i].set_xlabel(col)\n",
    "    axes[i].set_ylabel('Frequency')\n",
    "\n",
    "plt.show()\n"
   ]
  },
  {
   "cell_type": "code",
   "execution_count": null,
   "id": "df6a7f22-9c53-487a-9e33-fef93bd2a6fc",
   "metadata": {},
   "outputs": [],
   "source": [
    "# Analyze the distribution (e.g., skewness, presence of outliers) and provide inferences\n",
    "import seaborn as sns\n",
    "\n",
    "# Calculate skewness for each numerical column\n",
    "skewness = data[numerical_columns.columns].skew()\n",
    "\n",
    "# Plot boxplots to check for outliers\n",
    "for column in numerical_columns.columns:\n",
    "    sns.boxplot(data[column])\n",
    "    plt.title(f'Boxplot of {column}')\n",
    "    plt.show()\n",
    "\n",
    "# Print skewness values for interpretation\n",
    "print(skewness)\n"
   ]
  },
  {
   "cell_type": "code",
   "execution_count": null,
   "id": "0cba28c4-eebd-47f2-9009-2630fe6fda08",
   "metadata": {},
   "outputs": [],
   "source": [
    "# Create boxplots for numerical variables to identify outliers and the interquartile range.\n",
    "import seaborn as sns\n",
    "import matplotlib.pyplot as plt\n",
    "\n",
    "# List of numerical columns to create boxplots for\n",
    "numerical_columns = ['Volume', 'Avg Price', 'Total Sales Value', \n",
    "                     'Discount Rate (%)', 'Discount Amount', 'Net Sales Value']\n",
    "\n",
    "# Plotting boxplots for each numerical column\n",
    "plt.figure(figsize=(12, 8))\n",
    "for i, col in enumerate(numerical_columns):\n",
    "    plt.subplot(2, 3, i+1)\n",
    "    sns.boxplot(data=data, x=col, color='lightgreen', fliersize=6)\n",
    "    plt.title(f'Boxplot of {col}')\n",
    "    plt.xlabel(col)\n",
    "    \n",
    "plt.tight_layout()\n",
    "plt.show()\n"
   ]
  },
  {
   "cell_type": "code",
   "execution_count": null,
   "id": "e6cbe339-c32a-4ae3-b1dc-1b6f57fe6ea5",
   "metadata": {},
   "outputs": [],
   "source": [
    "# Identify categorical columns in the dataset.\n",
    "import pandas as pd\n",
    "# Identify categorical columns\n",
    "categorical_columns = data.select_dtypes(include=['object', 'category']).columns.tolist()\n",
    "categorical_columns"
   ]
  },
  {
   "cell_type": "code",
   "execution_count": null,
   "id": "c6dfde4e-4716-411d-ab4f-e0a1b24ab618",
   "metadata": {},
   "outputs": [],
   "source": [
    "# Create bar charts to visualize the frequency or count of each category.\n",
    "import matplotlib.pyplot as plt\n",
    "\n",
    "# Create bar charts for each categorical column\n",
    "for col in categorical_columns:\n",
    "    plt.figure(figsize=(10, 6))\n",
    "    data[col].value_counts().plot(kind='bar', color='skyblue', edgecolor='black')\n",
    "    plt.title(f'Frequency of Categories in {col}', fontsize=16)\n",
    "    plt.xlabel(f'{col}', fontsize=14)\n",
    "    plt.ylabel('Count', fontsize=14)\n",
    "    plt.xticks(rotation=45, fontsize=12)\n",
    "    plt.grid(axis='y', linestyle='--', alpha=0.7)\n",
    "    plt.tight_layout()\n",
    "    plt.show()"
   ]
  },
  {
   "cell_type": "code",
   "execution_count": null,
   "id": "81c8d91e-d54e-41d0-8087-d8d9f1b87bac",
   "metadata": {},
   "outputs": [],
   "source": [
    "# Analyze the distribution of categories and provide insights.\n",
    "category_distribution = {}\n",
    "\n",
    "for col in categorical_columns:\n",
    "    value_counts = data[col].value_counts()\n",
    "    total = value_counts.sum()\n",
    "    distribution_info = {\n",
    "        'unique_categories': len(value_counts),\n",
    "        'top_category': value_counts.idxmax(),\n",
    "        'top_category_count': value_counts.max(),\n",
    "        'top_category_percentage': (value_counts.max() / total) * 100,\n",
    "    }\n",
    "    category_distribution[col] = distribution_info\n",
    "\n",
    "category_distribution_df = pd.DataFrame(category_distribution).T\n",
    "category_distribution_df"
   ]
  },
  {
   "cell_type": "code",
   "execution_count": null,
   "id": "d7732dab-841a-4257-a620-d3d864b8416e",
   "metadata": {},
   "outputs": [],
   "source": [
    "# **** Explain the concept of standardization (z-score normalization).\n",
    "\n",
    "# Standardization, also called Z-score normalization, transforms a dataset to have a mean (μ) of 0 and a standard deviation (σ) of 1. \n",
    "# This ensures that each feature contributes equally to the analysis, which is particularly useful for distance-based models like k-means or SVMs.\n",
    "\n",
    "# The formula for standardization is:\n",
    "# 𝑧 = 𝑥 − 𝜇 / 𝜎\n",
    "# Where:\n",
    "\n",
    "# x is the original value,\n",
    "# μ is the mean of the column,\n",
    "# σ is the standard deviation of the column,\n",
    "# z is the standardized value."
   ]
  },
  {
   "cell_type": "code",
   "execution_count": null,
   "id": "73976197-d193-4259-a961-4e79006d7651",
   "metadata": {},
   "outputs": [],
   "source": [
    "# Standardize the numerical columns using the formula: z=x-mu/sigma\n",
    "# Show before and after comparisons of the data distributions.\n",
    "import seaborn as sns\n",
    "\n",
    "# Standardize the numerical columns using z-score normalization\n",
    "standardized_data = data.copy()\n",
    "\n",
    "for col in numerical_columns:\n",
    "    mean = data[col].mean()\n",
    "    std = data[col].std()\n",
    "    standardized_data[col] = (data[col] - mean) / std\n",
    "\n",
    "# Compare distributions before and after standardization\n",
    "for col in numerical_columns:\n",
    "    plt.figure(figsize=(12, 6))\n",
    "    \n",
    "    # Original distribution\n",
    "    sns.histplot(data[col], kde=True, color='blue', label='Original', stat='density', bins=30, alpha=0.6)\n",
    "    \n",
    "    # Standardized distribution\n",
    "    sns.histplot(standardized_data[col], kde=True, color='orange', label='Standardized', stat='density', bins=30, alpha=0.6)\n",
    "    \n",
    "    plt.title(f\"Distribution Before and After Standardization: {col}\", fontsize=16)\n",
    "    plt.xlabel(col, fontsize=14)\n",
    "    plt.ylabel('Density', fontsize=14)\n",
    "    plt.legend(fontsize=12)\n",
    "    plt.grid(axis='y', linestyle='--', alpha=0.7)\n",
    "    plt.tight_layout()\n",
    "    plt.show()"
   ]
  },
  {
   "cell_type": "code",
   "execution_count": null,
   "id": "b5d0b93a-b234-4dad-8ce0-62308ba008d3",
   "metadata": {},
   "outputs": [],
   "source": [
    "****Discuss the need for converting categorical data into dummy variables (one-hot encoding).\n",
    "\n",
    "Need for Converting Categorical Data into Dummy Variables (One-Hot Encoding)\n",
    "Categorical data represents labels or categories that can’t be directly used by most machine learning algorithms. These algorithms expect numerical inputs and can misinterpret categorical data as ordinal (implying order or magnitude). Converting categorical data into dummy variables solves this issue.\n",
    "\n",
    "What is One-Hot Encoding?\n",
    "One-hot encoding transforms categorical variables into binary vectors (0s and 1s). Each category is represented as a separate column, with a value of 1 indicating the presence of that category in a particular row and 0 otherwise.\n",
    "\n",
    "For example:\n",
    "\n",
    "City\tOne-Hot Encoded Columns\n",
    "New York\t[1, 0, 0]\n",
    "Paris\t    [0, 1, 0]\n",
    "Tokyo\t    [0, 0, 1]"
   ]
  },
  {
   "cell_type": "code",
   "execution_count": null,
   "id": "664f7f73-bce5-4a80-92aa-b519e823d24b",
   "metadata": {},
   "outputs": [],
   "source": [
    "# Apply one-hot encoding to the categorical columns, creating binary (0 or 1) columns for each category.\n",
    "# Display a portion of the transformed dataset.\n",
    "categorical_columns = ['Date', 'Day', 'SKU', 'City', 'BU', 'Brand', 'Model']  # Replace with your column names\n",
    "one_hot_encoded_data = pd.get_dummies(data, columns=categorical_columns, drop_first=True)\n",
    "\n",
    "print(one_hot_encoded_data.head())"
   ]
  },
  {
   "cell_type": "code",
   "execution_count": null,
   "id": "4a3e9b21-6968-49e6-a5a4-4ce70cfa2dff",
   "metadata": {},
   "outputs": [],
   "source": []
  }
 ],
 "metadata": {
  "kernelspec": {
   "display_name": "Python 3 (ipykernel)",
   "language": "python",
   "name": "python3"
  },
  "language_info": {
   "codemirror_mode": {
    "name": "ipython",
    "version": 3
   },
   "file_extension": ".py",
   "mimetype": "text/x-python",
   "name": "python",
   "nbconvert_exporter": "python",
   "pygments_lexer": "ipython3",
   "version": "3.12.4"
  }
 },
 "nbformat": 4,
 "nbformat_minor": 5
}
