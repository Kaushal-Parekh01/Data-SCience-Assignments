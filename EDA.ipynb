{
 "cells": [
  {
   "cell_type": "code",
   "execution_count": null,
   "id": "a9d2a8fd-dbf9-4dca-bdff-4199d8387e53",
   "metadata": {
    "scrolled": true
   },
   "outputs": [],
   "source": [
    "import pandas as pd\n",
    "\n",
    "df = pd.read_csv('Cardiotocographic.csv')\n",
    "df.head()"
   ]
  },
  {
   "cell_type": "code",
   "execution_count": null,
   "id": "cf9f0195-ffc2-4bc2-8a95-594d68d9677e",
   "metadata": {},
   "outputs": [],
   "source": [
    "df.info()"
   ]
  },
  {
   "cell_type": "code",
   "execution_count": null,
   "id": "8427abd1-277f-4b62-9b4b-9febe15ff152",
   "metadata": {},
   "outputs": [],
   "source": [
    "df_null=df.isnull().sum()\n",
    "df_null"
   ]
  },
  {
   "cell_type": "code",
   "execution_count": null,
   "id": "21fbd0ee-f4d4-46b9-899c-0b46c7615e74",
   "metadata": {},
   "outputs": [],
   "source": [
    "df.describe()"
   ]
  },
  {
   "cell_type": "code",
   "execution_count": null,
   "id": "5021af99-4787-4a91-98bf-4a82ba208d15",
   "metadata": {},
   "outputs": [],
   "source": [
    "df['LB'].fillna(value = int(df['LB'].mean()), inplace=True)\n",
    "df['AC'].fillna(value = int(df['AC'].mean()), inplace=True)\n",
    "df['DS'].fillna(value = int(df['DS'].mean()), inplace=True)\n",
    "df['DP'].fillna(value = int(df['DP'].mean()), inplace=True)\n",
    "df['MLTV'].fillna(value = int(df['MLTV'].mean()), inplace=True)\n",
    "df['Width'].fillna(value = int(df['Width'].mean()), inplace=True)\n",
    "df['Tendency'].fillna(value = int(df['Tendency'].mean()), inplace=True)\n",
    "df['NSP'].fillna(value = int(df['NSP'].mean()), inplace=True)\n",
    "\n",
    "df_null=df.isnull().sum()\n",
    "df_null"
   ]
  },
  {
   "cell_type": "code",
   "execution_count": null,
   "id": "6b3c4591-240c-48a9-aa5c-99b11240cb47",
   "metadata": {},
   "outputs": [],
   "source": [
    "df.mean()"
   ]
  },
  {
   "cell_type": "code",
   "execution_count": null,
   "id": "8767155c-450f-46ad-8a3d-415c45f3b555",
   "metadata": {},
   "outputs": [],
   "source": [
    "df.median()"
   ]
  },
  {
   "cell_type": "code",
   "execution_count": null,
   "id": "9a823bc1-dbd8-4b9e-82bf-7800ec320ecc",
   "metadata": {},
   "outputs": [],
   "source": [
    "df.std()"
   ]
  },
  {
   "cell_type": "code",
   "execution_count": null,
   "id": "bf4806d0-0654-4ba5-8642-6265f3e8e3b5",
   "metadata": {},
   "outputs": [],
   "source": [
    "IQR = df.quantile(0.75) - df.quantile(0.25)\n",
    "IQR"
   ]
  },
  {
   "cell_type": "code",
   "execution_count": null,
   "id": "4b0e45ba-ce77-4cab-b453-02338ff4ebea",
   "metadata": {},
   "outputs": [],
   "source": [
    "import matplotlib.pyplot as plt\n",
    "import seaborn as sns\n",
    "\n",
    "# Histogram\n",
    "df.hist(figsize=(10, 8))\n",
    "plt.show()"
   ]
  },
  {
   "cell_type": "code",
   "execution_count": null,
   "id": "5b279766-8531-4634-8940-5ce09f7c0fb1",
   "metadata": {},
   "outputs": [],
   "source": [
    "# Box plot\n",
    "import math\n",
    "df.plot(kind='box', subplots=True, layout=(math.ceil(len(df.columns)/3), 3), figsize=(15, 10)) #adjust layout as needed\n",
    "plt.show()"
   ]
  },
  {
   "cell_type": "code",
   "execution_count": null,
   "id": "9d95742d-595f-4675-86ee-6a0cd3983a67",
   "metadata": {},
   "outputs": [],
   "source": [
    "# Bar chart\n",
    "for col in df.select_dtypes(exclude=['number']):\n",
    "    plt.figure()  # Create a new figure for each plot\n",
    "    df[col].value_counts().plot(kind='bar')\n",
    "    plt.title(f'Distribution of {col}')\n",
    "    plt.show()"
   ]
  },
  {
   "cell_type": "code",
   "execution_count": null,
   "id": "f19a74fe-9340-467f-8622-2d39d6744c9f",
   "metadata": {},
   "outputs": [],
   "source": [
    "sns.pairplot(df.select_dtypes(include=['number']))\n",
    "plt.show()"
   ]
  },
  {
   "cell_type": "code",
   "execution_count": null,
   "id": "8d52c618-e36a-43eb-b769-9038b43be87e",
   "metadata": {},
   "outputs": [],
   "source": [
    "correlation_matrix = df.corr()\n",
    "sns.heatmap(correlation_matrix, annot=True)\n",
    "plt.show()"
   ]
  },
  {
   "cell_type": "code",
   "execution_count": null,
   "id": "7f213d8c-16a8-4344-b516-fa66c11ee9de",
   "metadata": {},
   "outputs": [],
   "source": []
  }
 ],
 "metadata": {
  "kernelspec": {
   "display_name": "Python 3 (ipykernel)",
   "language": "python",
   "name": "python3"
  },
  "language_info": {
   "codemirror_mode": {
    "name": "ipython",
    "version": 3
   },
   "file_extension": ".py",
   "mimetype": "text/x-python",
   "name": "python",
   "nbconvert_exporter": "python",
   "pygments_lexer": "ipython3",
   "version": "3.12.4"
  }
 },
 "nbformat": 4,
 "nbformat_minor": 5
}
