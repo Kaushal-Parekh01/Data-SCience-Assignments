{
 "cells": [
  {
   "cell_type": "code",
   "execution_count": 8,
   "id": "f7496038-aaa0-40be-a0d6-9dab99dbb3f0",
   "metadata": {},
   "outputs": [
    {
     "name": "stdout",
     "output_type": "stream",
     "text": [
      "Sample Maean : 1.2386666666666666\n",
      "Sample Standard Deviation : 0.19316412956959936\n",
      "Degree Of Freedom : 14\n",
      "Critical t-value : 2.976842734370834\n",
      "Standard Error of the Mean : 0.04987476379384733\n",
      "Confidence Interval (ci lower) : 1.0901973384384906\n",
      "Confidence Interval (ci upper) : 1.3871359948948425\n"
     ]
    }
   ],
   "source": [
    "import numpy as np\n",
    "from scipy.stats import t\n",
    "\n",
    "# Data points\n",
    "x = [1.13, 1.55, 1.43, 0.92, 1.25, 1.36, 1.32, 0.85, 1.07, 1.48, 1.20, 1.33, 1.18, 1.22, 1.29]\n",
    "\n",
    "# Sample size\n",
    "n = len(x)\n",
    "\n",
    "# Sample mean\n",
    "sample_mean = np.mean(x)\n",
    "print(\"Sample Maean :\",sample_mean)\n",
    "\n",
    "# Sample standard deviation (ddof=1 ensures sample standard deviation)\n",
    "sample_std_dev = np.std(x, ddof=1)\n",
    "print(\"Sample Standard Deviation :\",sample_std_dev)\n",
    "# Degrees of freedom\n",
    "df = n - 1\n",
    "print(\"Degree Of Freedom :\",df)\n",
    "\n",
    "# Critical t-value for 99% confidence interval\n",
    "confidence_level = 0.99\n",
    "alpha = 1 - confidence_level\n",
    "critical_t_value = t.ppf(1 - alpha / 2, df)\n",
    "print(\"Critical t-value :\",critical_t_value)\n",
    "\n",
    "# Standard error of the mean\n",
    "sem = sample_std_dev / np.sqrt(n)\n",
    "print(\"Standard Error of the Mean :\",sem)\n",
    "\n",
    "# Confidence interval\n",
    "margin_of_error = critical_t_value * sem\n",
    "ci_lower = sample_mean - margin_of_error\n",
    "ci_upper = sample_mean + margin_of_error\n",
    "print(\"Confidence Interval (ci lower) :\",ci_lower)\n",
    "print(\"Confidence Interval (ci upper) :\",ci_upper)\n"
   ]
  },
  {
   "cell_type": "code",
   "execution_count": null,
   "id": "f0f4a7f4-d656-4204-849f-1e8e335edd45",
   "metadata": {},
   "outputs": [],
   "source": []
  },
  {
   "cell_type": "code",
   "execution_count": 10,
   "id": "9513b636-2352-45ca-ae5c-b35285fcc7eb",
   "metadata": {},
   "outputs": [
    {
     "name": "stdout",
     "output_type": "stream",
     "text": [
      "Sample Maean : 1.2386666666666666\n",
      "Critical z-value : 2.5758293035489004\n",
      "Standard Error of the Mean : 0.051639777949432225\n",
      "Confidence Interval (ci lower) : 1.1056514133957607\n",
      "Confidence Interval (ci upper) : 1.3716819199375725\n"
     ]
    }
   ],
   "source": [
    "import scipy.stats as stats\n",
    "\n",
    "# Given data\n",
    "x = [1.13, 1.55, 1.43, 0.92, 1.25, 1.36, 1.32, 0.85, 1.07, 1.48, 1.20, 1.33, 1.18, 1.22, 1.29]\n",
    "n = len(x)\n",
    "\n",
    "# Known population standard deviation\n",
    "pop_std_dev = 0.2\n",
    "\n",
    "# Sample mean\n",
    "sample_mean = np.mean(x)\n",
    "print(\"Sample Maean :\",sample_mean)\n",
    "\n",
    "# Critical z-value for 99% confidence interval\n",
    "confidence_level = 0.99\n",
    "alpha = 1 - confidence_level\n",
    "z_critical = stats.norm.ppf(1 - alpha / 2)\n",
    "print(\"Critical z-value :\",z_critical)\n",
    "\n",
    "# Standard error of the mean\n",
    "sem = pop_std_dev / np.sqrt(n)\n",
    "print(\"Standard Error of the Mean :\",sem)\n",
    "\n",
    "\n",
    "# Confidence interval\n",
    "margin_of_error = z_critical * sem\n",
    "ci_lower = sample_mean - margin_of_error\n",
    "ci_upper = sample_mean + margin_of_error\n",
    "print(\"Confidence Interval (ci lower) :\",ci_lower)\n",
    "print(\"Confidence Interval (ci upper) :\",ci_upper)\n"
   ]
  },
  {
   "cell_type": "code",
   "execution_count": null,
   "id": "f46e39a8-1690-4eb4-8ba6-451d4b6836e3",
   "metadata": {},
   "outputs": [],
   "source": []
  }
 ],
 "metadata": {
  "kernelspec": {
   "display_name": "Python 3 (ipykernel)",
   "language": "python",
   "name": "python3"
  },
  "language_info": {
   "codemirror_mode": {
    "name": "ipython",
    "version": 3
   },
   "file_extension": ".py",
   "mimetype": "text/x-python",
   "name": "python",
   "nbconvert_exporter": "python",
   "pygments_lexer": "ipython3",
   "version": "3.12.4"
  }
 },
 "nbformat": 4,
 "nbformat_minor": 5
}
